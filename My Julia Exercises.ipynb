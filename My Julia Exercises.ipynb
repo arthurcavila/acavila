{
 "cells": [
  {
   "cell_type": "markdown",
   "metadata": {},
   "source": [
    "# Exercises in Julia\n",
    "#### Author: Arthur Carbonare de Avila"
   ]
  },
  {
   "cell_type": "markdown",
   "metadata": {},
   "source": [
    "## Leap year function\n",
    "\n",
    "Exercise from the Julia track on https://exercism.io\n",
    "\n",
    "Return true if  \n",
    "    (a) Year is divisible by 4;  \n",
    "    (b) But not if divisible by 100  \n",
    "    (c) Uness it is also divisible by 400  "
   ]
  },
  {
   "cell_type": "code",
   "execution_count": 10,
   "metadata": {},
   "outputs": [
    {
     "name": "stdout",
     "output_type": "stream",
     "text": [
      "true\n",
      "false\n",
      "false\n",
      "true"
     ]
    }
   ],
   "source": [
    "function is_leap_year(year::Int)\n",
    "\treturn ((year%4 == 0) * (year%100 != 0) + (year%400 ==0))==1\n",
    "end\n",
    "\n",
    "print(is_leap_year(2016),\"\\n\",\n",
    "    is_leap_year(1999),\"\\n\",\n",
    "    is_leap_year(1900),\"\\n\",\n",
    "    is_leap_year(2000))"
   ]
  },
  {
   "cell_type": "code",
   "execution_count": null,
   "metadata": {},
   "outputs": [],
   "source": []
  }
 ],
 "metadata": {
  "kernelspec": {
   "display_name": "Julia 1.0.3",
   "language": "julia",
   "name": "julia-1.0"
  },
  "language_info": {
   "file_extension": ".jl",
   "mimetype": "application/julia",
   "name": "julia",
   "version": "1.0.3"
  }
 },
 "nbformat": 4,
 "nbformat_minor": 2
}
